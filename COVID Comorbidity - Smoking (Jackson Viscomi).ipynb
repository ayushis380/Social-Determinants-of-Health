{
 "cells": [
  {
   "cell_type": "markdown",
   "id": "b0f8f9c0",
   "metadata": {},
   "source": [
    "# Group Project - Smoking Data Integration\n",
    "Jackson Viscomi"
   ]
  },
  {
   "cell_type": "code",
   "execution_count": 18,
   "id": "deeac378",
   "metadata": {},
   "outputs": [],
   "source": [
    "import pandas as pd"
   ]
  },
  {
   "cell_type": "markdown",
   "id": "c8e610a4",
   "metadata": {},
   "source": [
    "## Import Cleaned Facets Dataset "
   ]
  },
  {
   "cell_type": "code",
   "execution_count": 19,
   "id": "fc606ce0",
   "metadata": {},
   "outputs": [],
   "source": [
    "path = \"C:/Users/jcviscom/OneDrive - Intermountain Healthcare/Documents/U Biomedical Informatics/BMI 6016/Group Project/MASTER_FACETS_DATA_AllColumns.csv\"\n",
    "facets = pd.read_csv(path)\n",
    "#pull most recent data (2018)\n",
    "facets = facets[facets['Year'] == 2018]"
   ]
  },
  {
   "cell_type": "markdown",
   "id": "0eb9c53f",
   "metadata": {},
   "source": [
    "## Import Smoking Rates Dataset  \n",
    "Source data on county level, evenly spread throughout each corresponding FIPS code."
   ]
  },
  {
   "cell_type": "code",
   "execution_count": 20,
   "id": "5c789816",
   "metadata": {},
   "outputs": [],
   "source": [
    "path2 = \"C:/Users/jcviscom/OneDrive - Intermountain Healthcare/Documents/U Biomedical Informatics/BMI 6016/Group Project/Tract to ZIP, County + Smoking Rates.csv\"\n",
    "smoking_df = pd.read_csv(path2)"
   ]
  },
  {
   "cell_type": "markdown",
   "id": "ced32528",
   "metadata": {},
   "source": [
    "## Join Smoking Rates to FACETS dataset"
   ]
  },
  {
   "cell_type": "code",
   "execution_count": 21,
   "id": "e7ff5de5",
   "metadata": {},
   "outputs": [],
   "source": [
    "#renaming the column to match FACETS before the join \n",
    "smoking_df.rename(columns={'tract': 'FIPS'}, inplace = True)"
   ]
  },
  {
   "cell_type": "code",
   "execution_count": 22,
   "id": "f6ccd190",
   "metadata": {},
   "outputs": [],
   "source": [
    "#performing a left join on the FACETS data\n",
    "FACETS_Joined = pd.merge(facets, smoking_df[[\"FIPS\",\"Smoking Rates (county)\",\"County Name\"]], how=\"left\", on=[\"FIPS\"])"
   ]
  },
  {
   "cell_type": "code",
   "execution_count": 23,
   "id": "bd074c84",
   "metadata": {},
   "outputs": [],
   "source": [
    "#narrowing down the columns\n",
    "FACETS_Joined_Smoking = FACETS_Joined[[\"FIPS\",\"County Name\",\"Total_Population\", \"Smoking Rates (county)\", \"Tob_Retailer_Per_1000\"]]"
   ]
  },
  {
   "cell_type": "code",
   "execution_count": 24,
   "id": "350f74b9",
   "metadata": {},
   "outputs": [
    {
     "name": "stderr",
     "output_type": "stream",
     "text": [
      "<ipython-input-24-b04dc155f3be>:2: SettingWithCopyWarning: \n",
      "A value is trying to be set on a copy of a slice from a DataFrame.\n",
      "Try using .loc[row_indexer,col_indexer] = value instead\n",
      "\n",
      "See the caveats in the documentation: https://pandas.pydata.org/pandas-docs/stable/user_guide/indexing.html#returning-a-view-versus-a-copy\n",
      "  FACETS_Joined_Smoking['Smoking Rates (county)'] = FACETS_Joined_Smoking['Smoking Rates (county)'].str[:-1].astype(float)/100\n"
     ]
    }
   ],
   "source": [
    "#changing data type for smoking rates\n",
    "FACETS_Joined_Smoking['Smoking Rates (county)'] = FACETS_Joined_Smoking['Smoking Rates (county)'].str[:-1].astype(float)/100"
   ]
  },
  {
   "cell_type": "markdown",
   "id": "3950bb3a",
   "metadata": {},
   "source": [
    "## Data Quality Assesment"
   ]
  },
  {
   "cell_type": "markdown",
   "id": "09097d58",
   "metadata": {},
   "source": [
    "To first get a general idea of the data I threw in a describe() statement to get some summary statistics"
   ]
  },
  {
   "cell_type": "code",
   "execution_count": 25,
   "id": "59232577",
   "metadata": {},
   "outputs": [
    {
     "data": {
      "text/html": [
       "<div>\n",
       "<style scoped>\n",
       "    .dataframe tbody tr th:only-of-type {\n",
       "        vertical-align: middle;\n",
       "    }\n",
       "\n",
       "    .dataframe tbody tr th {\n",
       "        vertical-align: top;\n",
       "    }\n",
       "\n",
       "    .dataframe thead th {\n",
       "        text-align: right;\n",
       "    }\n",
       "</style>\n",
       "<table border=\"1\" class=\"dataframe\">\n",
       "  <thead>\n",
       "    <tr style=\"text-align: right;\">\n",
       "      <th></th>\n",
       "      <th>FIPS</th>\n",
       "      <th>Total_Population</th>\n",
       "      <th>Smoking Rates (county)</th>\n",
       "      <th>Tob_Retailer_Per_1000</th>\n",
       "    </tr>\n",
       "  </thead>\n",
       "  <tbody>\n",
       "    <tr>\n",
       "      <th>count</th>\n",
       "      <td>2.167000e+03</td>\n",
       "      <td>2167.000000</td>\n",
       "      <td>2140.000000</td>\n",
       "      <td>2167.000000</td>\n",
       "    </tr>\n",
       "    <tr>\n",
       "      <th>mean</th>\n",
       "      <td>3.605476e+10</td>\n",
       "      <td>3904.919705</td>\n",
       "      <td>0.117631</td>\n",
       "      <td>1.215505</td>\n",
       "    </tr>\n",
       "    <tr>\n",
       "      <th>std</th>\n",
       "      <td>2.594875e+07</td>\n",
       "      <td>2250.634819</td>\n",
       "      <td>0.012981</td>\n",
       "      <td>6.864886</td>\n",
       "    </tr>\n",
       "    <tr>\n",
       "      <th>min</th>\n",
       "      <td>3.600500e+10</td>\n",
       "      <td>0.000000</td>\n",
       "      <td>0.096000</td>\n",
       "      <td>0.000000</td>\n",
       "    </tr>\n",
       "    <tr>\n",
       "      <th>25%</th>\n",
       "      <td>3.604703e+10</td>\n",
       "      <td>2368.000000</td>\n",
       "      <td>0.109000</td>\n",
       "      <td>0.000000</td>\n",
       "    </tr>\n",
       "    <tr>\n",
       "      <th>50%</th>\n",
       "      <td>3.604712e+10</td>\n",
       "      <td>3560.000000</td>\n",
       "      <td>0.114000</td>\n",
       "      <td>1.000000</td>\n",
       "    </tr>\n",
       "    <tr>\n",
       "      <th>75%</th>\n",
       "      <td>3.608103e+10</td>\n",
       "      <td>4966.000000</td>\n",
       "      <td>0.132000</td>\n",
       "      <td>1.000000</td>\n",
       "    </tr>\n",
       "    <tr>\n",
       "      <th>max</th>\n",
       "      <td>3.608599e+10</td>\n",
       "      <td>29256.000000</td>\n",
       "      <td>0.132000</td>\n",
       "      <td>205.000000</td>\n",
       "    </tr>\n",
       "  </tbody>\n",
       "</table>\n",
       "</div>"
      ],
      "text/plain": [
       "               FIPS  Total_Population  Smoking Rates (county)  \\\n",
       "count  2.167000e+03       2167.000000             2140.000000   \n",
       "mean   3.605476e+10       3904.919705                0.117631   \n",
       "std    2.594875e+07       2250.634819                0.012981   \n",
       "min    3.600500e+10          0.000000                0.096000   \n",
       "25%    3.604703e+10       2368.000000                0.109000   \n",
       "50%    3.604712e+10       3560.000000                0.114000   \n",
       "75%    3.608103e+10       4966.000000                0.132000   \n",
       "max    3.608599e+10      29256.000000                0.132000   \n",
       "\n",
       "       Tob_Retailer_Per_1000  \n",
       "count            2167.000000  \n",
       "mean                1.215505  \n",
       "std                 6.864886  \n",
       "min                 0.000000  \n",
       "25%                 0.000000  \n",
       "50%                 1.000000  \n",
       "75%                 1.000000  \n",
       "max               205.000000  "
      ]
     },
     "execution_count": 25,
     "metadata": {},
     "output_type": "execute_result"
    }
   ],
   "source": [
    "FACETS_Joined_Smoking.describe()"
   ]
  },
  {
   "cell_type": "code",
   "execution_count": 26,
   "id": "9c6a3362",
   "metadata": {},
   "outputs": [
    {
     "name": "stdout",
     "output_type": "stream",
     "text": [
      "<class 'pandas.core.frame.DataFrame'>\n",
      "Int64Index: 2167 entries, 0 to 2166\n",
      "Data columns (total 5 columns):\n",
      " #   Column                  Non-Null Count  Dtype  \n",
      "---  ------                  --------------  -----  \n",
      " 0   FIPS                    2167 non-null   int64  \n",
      " 1   County Name             2140 non-null   object \n",
      " 2   Total_Population        2167 non-null   int64  \n",
      " 3   Smoking Rates (county)  2140 non-null   float64\n",
      " 4   Tob_Retailer_Per_1000   2167 non-null   float64\n",
      "dtypes: float64(2), int64(2), object(1)\n",
      "memory usage: 101.6+ KB\n"
     ]
    }
   ],
   "source": [
    "FACETS_Joined_Smoking.info()"
   ]
  },
  {
   "cell_type": "markdown",
   "id": "a6697427",
   "metadata": {},
   "source": [
    "What stuck out to me was the following: \n",
    "- Different non-null counts (non-perfect join)\n",
    "- A FIPS location with 205 tobacco retailers per 1000 residents\n",
    "- FIPS location(s) with 0 residents"
   ]
  },
  {
   "cell_type": "markdown",
   "id": "de3f1008",
   "metadata": {},
   "source": [
    "### Filling NaNs"
   ]
  },
  {
   "cell_type": "markdown",
   "id": "4446edf7",
   "metadata": {},
   "source": [
    "First area of improvement was sourcing missing country names. Wayne had found another FIPS to County crosswalk from 2020 that could help fill in the missing pieces"
   ]
  },
  {
   "cell_type": "code",
   "execution_count": 27,
   "id": "45f40e6f",
   "metadata": {},
   "outputs": [
    {
     "data": {
      "text/plain": [
       "FIPS                      973997995924\n",
       "County Name                          0\n",
       "Total_Population                 95542\n",
       "Smoking Rates (county)             0.0\n",
       "Tob_Retailer_Per_1000              0.0\n",
       "dtype: object"
      ]
     },
     "execution_count": 27,
     "metadata": {},
     "output_type": "execute_result"
    }
   ],
   "source": [
    "FACETS_Joined_Smoking[FACETS_Joined_Smoking['County Name'].isnull()].sum()"
   ]
  },
  {
   "cell_type": "markdown",
   "id": "b13ba115",
   "metadata": {},
   "source": [
    "I brought in an addition source the Wayne found to map more FIPS codes to boroughs and get neighborhood-level data."
   ]
  },
  {
   "cell_type": "code",
   "execution_count": 28,
   "id": "d6d278ee",
   "metadata": {},
   "outputs": [],
   "source": [
    "path3 = \"C:/Users/jcviscom/OneDrive - Intermountain Healthcare/Documents/U Biomedical Informatics/BMI 6016/Group Project/BoroughSource2.csv\"\n",
    "crosswalk2 = pd.read_csv(path3)\n",
    "#renaming joining key for merge statement\n",
    "crosswalk2.rename(columns={'GEOID': 'FIPS'}, inplace = True)"
   ]
  },
  {
   "cell_type": "code",
   "execution_count": 29,
   "id": "8005dcf1",
   "metadata": {},
   "outputs": [],
   "source": [
    "FACETS_Joined_2 = pd.merge(FACETS_Joined_Smoking, crosswalk2[[\"FIPS\",\"BoroName\",\"NTAName\"]], how=\"left\", on=[\"FIPS\"])"
   ]
  },
  {
   "cell_type": "code",
   "execution_count": 30,
   "id": "c8e81ab8",
   "metadata": {},
   "outputs": [],
   "source": [
    "FACETS_Joined_2['County Merged'] = FACETS_Joined_2['County Name'].fillna(FACETS_Joined_2['BoroName'])"
   ]
  },
  {
   "cell_type": "code",
   "execution_count": 31,
   "id": "0c661172",
   "metadata": {},
   "outputs": [
    {
     "data": {
      "text/plain": [
       "FIPS                      72162201803\n",
       "County Name                         0\n",
       "Total_Population                20295\n",
       "Smoking Rates (county)            0.0\n",
       "Tob_Retailer_Per_1000             0.0\n",
       "BoroName                            0\n",
       "NTAName                             0\n",
       "County Merged                       0\n",
       "dtype: object"
      ]
     },
     "execution_count": 31,
     "metadata": {},
     "output_type": "execute_result"
    }
   ],
   "source": [
    "FACETS_Joined_2[FACETS_Joined_2['County Merged'].isnull()].sum()"
   ]
  },
  {
   "cell_type": "code",
   "execution_count": 32,
   "id": "5b873f30",
   "metadata": {},
   "outputs": [
    {
     "data": {
      "text/html": [
       "<div>\n",
       "<style scoped>\n",
       "    .dataframe tbody tr th:only-of-type {\n",
       "        vertical-align: middle;\n",
       "    }\n",
       "\n",
       "    .dataframe tbody tr th {\n",
       "        vertical-align: top;\n",
       "    }\n",
       "\n",
       "    .dataframe thead th {\n",
       "        text-align: right;\n",
       "    }\n",
       "</style>\n",
       "<table border=\"1\" class=\"dataframe\">\n",
       "  <thead>\n",
       "    <tr style=\"text-align: right;\">\n",
       "      <th></th>\n",
       "      <th>FIPS</th>\n",
       "      <th>County Name</th>\n",
       "      <th>Total_Population</th>\n",
       "      <th>Smoking Rates (county)</th>\n",
       "      <th>Tob_Retailer_Per_1000</th>\n",
       "      <th>BoroName</th>\n",
       "      <th>NTAName</th>\n",
       "      <th>County Merged</th>\n",
       "    </tr>\n",
       "  </thead>\n",
       "  <tbody>\n",
       "    <tr>\n",
       "      <th>1956</th>\n",
       "      <td>36081100802</td>\n",
       "      <td>NaN</td>\n",
       "      <td>9319</td>\n",
       "      <td>NaN</td>\n",
       "      <td>0.0</td>\n",
       "      <td>NaN</td>\n",
       "      <td>NaN</td>\n",
       "      <td>NaN</td>\n",
       "    </tr>\n",
       "    <tr>\n",
       "      <th>1957</th>\n",
       "      <td>36081101001</td>\n",
       "      <td>NaN</td>\n",
       "      <td>10976</td>\n",
       "      <td>NaN</td>\n",
       "      <td>0.0</td>\n",
       "      <td>NaN</td>\n",
       "      <td>NaN</td>\n",
       "      <td>NaN</td>\n",
       "    </tr>\n",
       "  </tbody>\n",
       "</table>\n",
       "</div>"
      ],
      "text/plain": [
       "             FIPS County Name  Total_Population  Smoking Rates (county)  \\\n",
       "1956  36081100802         NaN              9319                     NaN   \n",
       "1957  36081101001         NaN             10976                     NaN   \n",
       "\n",
       "      Tob_Retailer_Per_1000 BoroName NTAName County Merged  \n",
       "1956                    0.0      NaN     NaN           NaN  \n",
       "1957                    0.0      NaN     NaN           NaN  "
      ]
     },
     "execution_count": 32,
     "metadata": {},
     "output_type": "execute_result"
    }
   ],
   "source": [
    "FACETS_Joined_2[FACETS_Joined_2['County Merged'].isnull()]"
   ]
  },
  {
   "cell_type": "markdown",
   "id": "34787117",
   "metadata": {},
   "source": [
    "Not perfect, put accounting for 75,647 extra lives. I also found out that the first 5 digits of the FIPs can tell the county:  \n",
    "\n",
    "Bronx     36005  \n",
    "Kings     36047  \n",
    "New York  36061  \n",
    "Queens    36081  \n",
    "Richmond  36085  \n",
    "\n",
    "given that, these last two FIPS belong to Queens"
   ]
  },
  {
   "cell_type": "code",
   "execution_count": 33,
   "id": "ac003b7f",
   "metadata": {},
   "outputs": [],
   "source": [
    "FACETS_Joined_2['County Merged'].fillna('Queens', inplace = True)"
   ]
  },
  {
   "cell_type": "code",
   "execution_count": 34,
   "id": "2d997429",
   "metadata": {},
   "outputs": [],
   "source": [
    "#replacing County Merged with original County Name\n",
    "FACETS_Joined_2.drop(columns = ['County Name'], inplace=True)"
   ]
  },
  {
   "cell_type": "markdown",
   "id": "fb5333d8",
   "metadata": {},
   "source": [
    "No more FIPs with null county names."
   ]
  },
  {
   "cell_type": "markdown",
   "id": "d42658ab",
   "metadata": {},
   "source": [
    "## Unpopulated FIPS codes"
   ]
  },
  {
   "cell_type": "markdown",
   "id": "dac7a88b",
   "metadata": {},
   "source": [
    "Since our project is public health focused, there is no reason to include SDOH metrics from areas without residents."
   ]
  },
  {
   "cell_type": "code",
   "execution_count": 35,
   "id": "f7f194a1",
   "metadata": {},
   "outputs": [],
   "source": [
    "FACETS_Joined_2 = FACETS_Joined_2[FACETS_Joined_2['Total_Population']!=0]"
   ]
  },
  {
   "cell_type": "markdown",
   "id": "f41f0fae",
   "metadata": {},
   "source": [
    "## Addressing Outliers"
   ]
  },
  {
   "cell_type": "markdown",
   "id": "89d783ff",
   "metadata": {},
   "source": [
    "Given that our smoking rates were given on a county level, the only metric which could contain outliers was the Tobacoo Retialers Per 1,000.  \n",
    "\n",
    "An article from the NIH cited the range of Tobacco Retailers Per 100 as 0-17.5. This corresonded to all values within the 99.3 percentile of values.  \n",
    "\n",
    "Article (https://www.ncbi.nlm.nih.gov/pmc/articles/PMC8523582/)"
   ]
  },
  {
   "cell_type": "code",
   "execution_count": 36,
   "id": "d1e8661a",
   "metadata": {},
   "outputs": [],
   "source": [
    "import numpy as np"
   ]
  },
  {
   "cell_type": "code",
   "execution_count": 37,
   "id": "c22c2749",
   "metadata": {},
   "outputs": [
    {
     "data": {
      "text/plain": [
       "0.05    0.0\n",
       "0.10    0.0\n",
       "0.15    0.0\n",
       "0.20    0.0\n",
       "0.25    0.0\n",
       "0.30    0.0\n",
       "0.35    0.0\n",
       "0.40    0.0\n",
       "0.45    0.0\n",
       "0.50    1.0\n",
       "0.55    1.0\n",
       "0.60    1.0\n",
       "0.65    1.0\n",
       "0.70    1.0\n",
       "0.75    1.0\n",
       "0.80    2.0\n",
       "0.85    2.0\n",
       "0.90    2.0\n",
       "0.95    3.0\n",
       "Name: Tob_Retailer_Per_1000, dtype: float64"
      ]
     },
     "execution_count": 37,
     "metadata": {},
     "output_type": "execute_result"
    }
   ],
   "source": [
    "FACETS_Joined_2['Tob_Retailer_Per_1000'].quantile(np.linspace(.05, 1, 19, 0))"
   ]
  },
  {
   "cell_type": "markdown",
   "id": "e0114d6d",
   "metadata": {},
   "source": [
    "Narrowing down, I saw that our researched outliers were falling within the 99.7th percentile of our dataset. This is reassuring as it doesn't contradict the NIH article."
   ]
  },
  {
   "cell_type": "code",
   "execution_count": 38,
   "id": "c0765ca2",
   "metadata": {},
   "outputs": [
    {
     "data": {
      "text/plain": [
       "0.996    11.492\n",
       "0.997    16.000\n",
       "Name: Tob_Retailer_Per_1000, dtype: float64"
      ]
     },
     "execution_count": 38,
     "metadata": {},
     "output_type": "execute_result"
    }
   ],
   "source": [
    "FACETS_Joined_2['Tob_Retailer_Per_1000'].quantile(np.linspace(.996, .998, 2, 0))"
   ]
  },
  {
   "cell_type": "code",
   "execution_count": 39,
   "id": "34925dbd",
   "metadata": {},
   "outputs": [
    {
     "data": {
      "text/html": [
       "<div>\n",
       "<style scoped>\n",
       "    .dataframe tbody tr th:only-of-type {\n",
       "        vertical-align: middle;\n",
       "    }\n",
       "\n",
       "    .dataframe tbody tr th {\n",
       "        vertical-align: top;\n",
       "    }\n",
       "\n",
       "    .dataframe thead th {\n",
       "        text-align: right;\n",
       "    }\n",
       "</style>\n",
       "<table border=\"1\" class=\"dataframe\">\n",
       "  <thead>\n",
       "    <tr style=\"text-align: right;\">\n",
       "      <th></th>\n",
       "      <th>FIPS</th>\n",
       "      <th>Total_Population</th>\n",
       "      <th>Smoking Rates (county)</th>\n",
       "      <th>Tob_Retailer_Per_1000</th>\n",
       "      <th>BoroName</th>\n",
       "      <th>NTAName</th>\n",
       "      <th>County Merged</th>\n",
       "    </tr>\n",
       "  </thead>\n",
       "  <tbody>\n",
       "    <tr>\n",
       "      <th>1193</th>\n",
       "      <td>36061009400</td>\n",
       "      <td>44</td>\n",
       "      <td>0.096</td>\n",
       "      <td>205.0</td>\n",
       "      <td>New York</td>\n",
       "      <td>Midtown-Times Square</td>\n",
       "      <td>New York</td>\n",
       "    </tr>\n",
       "    <tr>\n",
       "      <th>1195</th>\n",
       "      <td>36061009600</td>\n",
       "      <td>119</td>\n",
       "      <td>0.096</td>\n",
       "      <td>76.0</td>\n",
       "      <td>New York</td>\n",
       "      <td>Midtown-Times Square</td>\n",
       "      <td>New York</td>\n",
       "    </tr>\n",
       "    <tr>\n",
       "      <th>1201</th>\n",
       "      <td>36061010200</td>\n",
       "      <td>180</td>\n",
       "      <td>0.096</td>\n",
       "      <td>83.0</td>\n",
       "      <td>New York</td>\n",
       "      <td>Midtown-Times Square</td>\n",
       "      <td>New York</td>\n",
       "    </tr>\n",
       "    <tr>\n",
       "      <th>1207</th>\n",
       "      <td>36061010900</td>\n",
       "      <td>147</td>\n",
       "      <td>0.096</td>\n",
       "      <td>102.0</td>\n",
       "      <td>New York</td>\n",
       "      <td>Midtown-Times Square</td>\n",
       "      <td>New York</td>\n",
       "    </tr>\n",
       "    <tr>\n",
       "      <th>1213</th>\n",
       "      <td>36061011300</td>\n",
       "      <td>120</td>\n",
       "      <td>0.096</td>\n",
       "      <td>117.0</td>\n",
       "      <td>New York</td>\n",
       "      <td>Midtown-Times Square</td>\n",
       "      <td>New York</td>\n",
       "    </tr>\n",
       "    <tr>\n",
       "      <th>2143</th>\n",
       "      <td>36085022800</td>\n",
       "      <td>41</td>\n",
       "      <td>0.128</td>\n",
       "      <td>146.0</td>\n",
       "      <td>NaN</td>\n",
       "      <td>NaN</td>\n",
       "      <td>Richmond</td>\n",
       "    </tr>\n",
       "  </tbody>\n",
       "</table>\n",
       "</div>"
      ],
      "text/plain": [
       "             FIPS  Total_Population  Smoking Rates (county)  \\\n",
       "1193  36061009400                44                   0.096   \n",
       "1195  36061009600               119                   0.096   \n",
       "1201  36061010200               180                   0.096   \n",
       "1207  36061010900               147                   0.096   \n",
       "1213  36061011300               120                   0.096   \n",
       "2143  36085022800                41                   0.128   \n",
       "\n",
       "      Tob_Retailer_Per_1000  BoroName               NTAName County Merged  \n",
       "1193                  205.0  New York  Midtown-Times Square      New York  \n",
       "1195                   76.0  New York  Midtown-Times Square      New York  \n",
       "1201                   83.0  New York  Midtown-Times Square      New York  \n",
       "1207                  102.0  New York  Midtown-Times Square      New York  \n",
       "1213                  117.0  New York  Midtown-Times Square      New York  \n",
       "2143                  146.0       NaN                   NaN      Richmond  "
      ]
     },
     "execution_count": 39,
     "metadata": {},
     "output_type": "execute_result"
    }
   ],
   "source": [
    "FACETS_Joined_2[FACETS_Joined_2['Tob_Retailer_Per_1000'] > FACETS_Joined_2['Tob_Retailer_Per_1000'].quantile(.997)]"
   ]
  },
  {
   "cell_type": "markdown",
   "id": "f681ad60",
   "metadata": {},
   "source": [
    "For imputing these values, I will first use the NTA average and then the county average for those with a null NTA value:"
   ]
  },
  {
   "cell_type": "markdown",
   "id": "bd2fe883",
   "metadata": {},
   "source": [
    "First, calcuating non-null county averages and merging in the averages to the larger dataset"
   ]
  },
  {
   "cell_type": "code",
   "execution_count": 40,
   "id": "cb0ac081",
   "metadata": {},
   "outputs": [],
   "source": [
    "FACETS_Smoking_NTA_Avg = FACETS_Joined_2[['NTAName','Tob_Retailer_Per_1000']].groupby('NTAName').median()\n",
    "FACETS_Smoking_NTA_Avg.reset_index(inplace = True)"
   ]
  },
  {
   "cell_type": "code",
   "execution_count": 41,
   "id": "c2718741",
   "metadata": {},
   "outputs": [],
   "source": [
    "FACETS_Joined_2 = pd.merge(FACETS_Joined_2, FACETS_Smoking_NTA_Avg, how=\"left\", on=['NTAName'])"
   ]
  },
  {
   "cell_type": "code",
   "execution_count": 42,
   "id": "109f13f9",
   "metadata": {},
   "outputs": [],
   "source": [
    "FACETS_Joined_2.rename(columns = {'Tob_Retailer_Per_1000_y':'Tob_Retailer_Per_1000_NTA_Avg','Tob_Retailer_Per_1000_x':'Tob_Retailer_Per_1000'}, inplace = True)"
   ]
  },
  {
   "cell_type": "markdown",
   "id": "ade4db41",
   "metadata": {},
   "source": [
    "Repeating this same process for County-level averages. "
   ]
  },
  {
   "cell_type": "code",
   "execution_count": 44,
   "id": "0d068e32",
   "metadata": {},
   "outputs": [],
   "source": [
    "FACETS_Smoking_County_Avg = FACETS_Joined_2[['County Merged','Tob_Retailer_Per_1000']].groupby('County Merged').median()\n",
    "FACETS_Smoking_County_Avg.reset_index(inplace = True)"
   ]
  },
  {
   "cell_type": "code",
   "execution_count": 45,
   "id": "8fdb262c",
   "metadata": {},
   "outputs": [],
   "source": [
    "FACETS_Joined_2 = pd.merge(FACETS_Joined_2, FACETS_Smoking_County_Avg, how=\"left\", on=['County Merged'])"
   ]
  },
  {
   "cell_type": "code",
   "execution_count": 46,
   "id": "51d1776c",
   "metadata": {},
   "outputs": [],
   "source": [
    "FACETS_Joined_2.rename(columns = {'Tob_Retailer_Per_1000_x':'Tob_Retailer_Per_1000','Tob_Retailer_Per_1000_y':'Tob_Retailer_Per_1000_County_Avg'}, inplace = True)"
   ]
  },
  {
   "cell_type": "markdown",
   "id": "f7bea876",
   "metadata": {},
   "source": [
    "1) Filling null NTA averges with county-level avergaes  \n",
    "2) Creating a logic that will first check if the the value is greater than 16, if true, will replace it with the NTA/County level average"
   ]
  },
  {
   "cell_type": "code",
   "execution_count": 47,
   "id": "2e0faf8d",
   "metadata": {},
   "outputs": [],
   "source": [
    "FACETS_Joined_2['Tob_Retailer_Per_1000_NTA_Avg'].fillna(FACETS_Joined_2['Tob_Retailer_Per_1000_County_Avg'], inplace = True)\n",
    "FACETS_Joined_2['Tob_Retailer_Per_1000_Fix'] = np.where(FACETS_Joined_2['Tob_Retailer_Per_1000']>=16, FACETS_Joined_2['Tob_Retailer_Per_1000_NTA_Avg'],FACETS_Joined_2['Tob_Retailer_Per_1000'])"
   ]
  },
  {
   "cell_type": "markdown",
   "id": "8b1af220",
   "metadata": {},
   "source": [
    "Seeing it in action:"
   ]
  },
  {
   "cell_type": "code",
   "execution_count": 49,
   "id": "cac77368",
   "metadata": {},
   "outputs": [],
   "source": [
    "FACETS_Joined_2.drop(columns = ['Tob_Retailer_Per_1000_NTA_Avg','Tob_Retailer_Per_1000_County_Avg'], inplace=True)"
   ]
  },
  {
   "cell_type": "code",
   "execution_count": 50,
   "id": "b92a171d",
   "metadata": {},
   "outputs": [
    {
     "data": {
      "text/html": [
       "<div>\n",
       "<style scoped>\n",
       "    .dataframe tbody tr th:only-of-type {\n",
       "        vertical-align: middle;\n",
       "    }\n",
       "\n",
       "    .dataframe tbody tr th {\n",
       "        vertical-align: top;\n",
       "    }\n",
       "\n",
       "    .dataframe thead th {\n",
       "        text-align: right;\n",
       "    }\n",
       "</style>\n",
       "<table border=\"1\" class=\"dataframe\">\n",
       "  <thead>\n",
       "    <tr style=\"text-align: right;\">\n",
       "      <th></th>\n",
       "      <th>FIPS</th>\n",
       "      <th>Total_Population</th>\n",
       "      <th>Smoking Rates (county)</th>\n",
       "      <th>Tob_Retailer_Per_1000</th>\n",
       "      <th>BoroName</th>\n",
       "      <th>NTAName</th>\n",
       "      <th>County Merged</th>\n",
       "      <th>Tob_Retailer_Per_1000_Fix</th>\n",
       "    </tr>\n",
       "  </thead>\n",
       "  <tbody>\n",
       "    <tr>\n",
       "      <th>319</th>\n",
       "      <td>36005043500</td>\n",
       "      <td>62</td>\n",
       "      <td>0.114</td>\n",
       "      <td>16.0</td>\n",
       "      <td>NaN</td>\n",
       "      <td>NaN</td>\n",
       "      <td>Bronx</td>\n",
       "      <td>1.0</td>\n",
       "    </tr>\n",
       "    <tr>\n",
       "      <th>358</th>\n",
       "      <td>36047003700</td>\n",
       "      <td>1214</td>\n",
       "      <td>0.132</td>\n",
       "      <td>16.0</td>\n",
       "      <td>Kings</td>\n",
       "      <td>Downtown Brooklyn-DUMBO-Boerum Hill</td>\n",
       "      <td>Kings</td>\n",
       "      <td>1.5</td>\n",
       "    </tr>\n",
       "    <tr>\n",
       "      <th>1177</th>\n",
       "      <td>36061009400</td>\n",
       "      <td>44</td>\n",
       "      <td>0.096</td>\n",
       "      <td>205.0</td>\n",
       "      <td>New York</td>\n",
       "      <td>Midtown-Times Square</td>\n",
       "      <td>New York</td>\n",
       "      <td>8.5</td>\n",
       "    </tr>\n",
       "    <tr>\n",
       "      <th>1179</th>\n",
       "      <td>36061009600</td>\n",
       "      <td>119</td>\n",
       "      <td>0.096</td>\n",
       "      <td>76.0</td>\n",
       "      <td>New York</td>\n",
       "      <td>Midtown-Times Square</td>\n",
       "      <td>New York</td>\n",
       "      <td>8.5</td>\n",
       "    </tr>\n",
       "    <tr>\n",
       "      <th>1185</th>\n",
       "      <td>36061010200</td>\n",
       "      <td>180</td>\n",
       "      <td>0.096</td>\n",
       "      <td>83.0</td>\n",
       "      <td>New York</td>\n",
       "      <td>Midtown-Times Square</td>\n",
       "      <td>New York</td>\n",
       "      <td>8.5</td>\n",
       "    </tr>\n",
       "    <tr>\n",
       "      <th>1191</th>\n",
       "      <td>36061010900</td>\n",
       "      <td>147</td>\n",
       "      <td>0.096</td>\n",
       "      <td>102.0</td>\n",
       "      <td>New York</td>\n",
       "      <td>Midtown-Times Square</td>\n",
       "      <td>New York</td>\n",
       "      <td>8.5</td>\n",
       "    </tr>\n",
       "    <tr>\n",
       "      <th>1197</th>\n",
       "      <td>36061011300</td>\n",
       "      <td>120</td>\n",
       "      <td>0.096</td>\n",
       "      <td>117.0</td>\n",
       "      <td>New York</td>\n",
       "      <td>Midtown-Times Square</td>\n",
       "      <td>New York</td>\n",
       "      <td>8.5</td>\n",
       "    </tr>\n",
       "    <tr>\n",
       "      <th>2105</th>\n",
       "      <td>36085022800</td>\n",
       "      <td>41</td>\n",
       "      <td>0.128</td>\n",
       "      <td>146.0</td>\n",
       "      <td>NaN</td>\n",
       "      <td>NaN</td>\n",
       "      <td>Richmond</td>\n",
       "      <td>1.0</td>\n",
       "    </tr>\n",
       "  </tbody>\n",
       "</table>\n",
       "</div>"
      ],
      "text/plain": [
       "             FIPS  Total_Population  Smoking Rates (county)  \\\n",
       "319   36005043500                62                   0.114   \n",
       "358   36047003700              1214                   0.132   \n",
       "1177  36061009400                44                   0.096   \n",
       "1179  36061009600               119                   0.096   \n",
       "1185  36061010200               180                   0.096   \n",
       "1191  36061010900               147                   0.096   \n",
       "1197  36061011300               120                   0.096   \n",
       "2105  36085022800                41                   0.128   \n",
       "\n",
       "      Tob_Retailer_Per_1000  BoroName                              NTAName  \\\n",
       "319                    16.0       NaN                                  NaN   \n",
       "358                    16.0     Kings  Downtown Brooklyn-DUMBO-Boerum Hill   \n",
       "1177                  205.0  New York                 Midtown-Times Square   \n",
       "1179                   76.0  New York                 Midtown-Times Square   \n",
       "1185                   83.0  New York                 Midtown-Times Square   \n",
       "1191                  102.0  New York                 Midtown-Times Square   \n",
       "1197                  117.0  New York                 Midtown-Times Square   \n",
       "2105                  146.0       NaN                                  NaN   \n",
       "\n",
       "     County Merged  Tob_Retailer_Per_1000_Fix  \n",
       "319          Bronx                        1.0  \n",
       "358          Kings                        1.5  \n",
       "1177      New York                        8.5  \n",
       "1179      New York                        8.5  \n",
       "1185      New York                        8.5  \n",
       "1191      New York                        8.5  \n",
       "1197      New York                        8.5  \n",
       "2105      Richmond                        1.0  "
      ]
     },
     "execution_count": 50,
     "metadata": {},
     "output_type": "execute_result"
    }
   ],
   "source": [
    "FACETS_Joined_2[FACETS_Joined_2['Tob_Retailer_Per_1000']>=16]"
   ]
  },
  {
   "cell_type": "code",
   "execution_count": 51,
   "id": "37ef2c3c",
   "metadata": {},
   "outputs": [],
   "source": [
    "FACETS_Joined_2.drop(columns = ['Tob_Retailer_Per_1000'], inplace=True)\n",
    "FACETS_Joined_2.rename(columns = {'Tob_Retailer_Per_1000_Fix':'Tob_Retailer_Per_1000'}, inplace=True)"
   ]
  },
  {
   "cell_type": "code",
   "execution_count": 52,
   "id": "f2874da5",
   "metadata": {},
   "outputs": [
    {
     "name": "stdout",
     "output_type": "stream",
     "text": [
      "<class 'pandas.core.frame.DataFrame'>\n",
      "Int64Index: 2128 entries, 0 to 2127\n",
      "Data columns (total 7 columns):\n",
      " #   Column                  Non-Null Count  Dtype  \n",
      "---  ------                  --------------  -----  \n",
      " 0   FIPS                    2128 non-null   int64  \n",
      " 1   Total_Population        2128 non-null   int64  \n",
      " 2   Smoking Rates (county)  2110 non-null   float64\n",
      " 3   BoroName                1998 non-null   object \n",
      " 4   NTAName                 1998 non-null   object \n",
      " 5   County Merged           2128 non-null   object \n",
      " 6   Tob_Retailer_Per_1000   2128 non-null   float64\n",
      "dtypes: float64(2), int64(2), object(3)\n",
      "memory usage: 133.0+ KB\n"
     ]
    }
   ],
   "source": [
    "FACETS_Joined_2.info()"
   ]
  },
  {
   "cell_type": "markdown",
   "id": "a3b3dd8f",
   "metadata": {},
   "source": [
    "Looking much better. I chose not to fill the rest of the Smoking rates for this exercise since the data was gatered at a county level and will be shown at a county level."
   ]
  },
  {
   "cell_type": "markdown",
   "id": "9f271f62",
   "metadata": {},
   "source": [
    "# Plotting Cleaned Data"
   ]
  },
  {
   "cell_type": "code",
   "execution_count": 356,
   "id": "2a4cf8c9",
   "metadata": {},
   "outputs": [
    {
     "name": "stdout",
     "output_type": "stream",
     "text": [
      "Requirement already satisfied: geopandas in c:\\users\\jcviscom\\anaconda3\\lib\\site-packages (0.12.2)\n",
      "Requirement already satisfied: packaging in c:\\users\\jcviscom\\anaconda3\\lib\\site-packages (from geopandas) (20.9)\n",
      "Requirement already satisfied: pandas>=1.0.0 in c:\\users\\jcviscom\\anaconda3\\lib\\site-packages (from geopandas) (1.2.4)\n",
      "Requirement already satisfied: pyproj>=2.6.1.post1 in c:\\users\\jcviscom\\anaconda3\\lib\\site-packages (from geopandas) (3.5.0)\n",
      "Requirement already satisfied: shapely>=1.7 in c:\\users\\jcviscom\\anaconda3\\lib\\site-packages (from geopandas) (2.0.1)\n",
      "Requirement already satisfied: fiona>=1.8 in c:\\users\\jcviscom\\anaconda3\\lib\\site-packages (from geopandas) (1.9.3)\n",
      "Requirement already satisfied: click-plugins>=1.0 in c:\\users\\jcviscom\\anaconda3\\lib\\site-packages (from fiona>=1.8->geopandas) (1.1.1)\n",
      "Requirement already satisfied: cligj>=0.5 in c:\\users\\jcviscom\\anaconda3\\lib\\site-packages (from fiona>=1.8->geopandas) (0.7.2)\n",
      "Requirement already satisfied: importlib-metadata in c:\\users\\jcviscom\\anaconda3\\lib\\site-packages (from fiona>=1.8->geopandas) (3.10.0)\n",
      "Requirement already satisfied: click~=8.0 in c:\\users\\jcviscom\\anaconda3\\lib\\site-packages (from fiona>=1.8->geopandas) (8.1.3)\n",
      "Requirement already satisfied: certifi in c:\\users\\jcviscom\\anaconda3\\lib\\site-packages (from fiona>=1.8->geopandas) (2020.12.5)\n",
      "Requirement already satisfied: munch>=2.3.2 in c:\\users\\jcviscom\\anaconda3\\lib\\site-packages (from fiona>=1.8->geopandas) (2.5.0)\n",
      "Requirement already satisfied: attrs>=19.2.0 in c:\\users\\jcviscom\\anaconda3\\lib\\site-packages (from fiona>=1.8->geopandas) (20.3.0)\n",
      "Requirement already satisfied: colorama in c:\\users\\jcviscom\\anaconda3\\lib\\site-packages (from click~=8.0->fiona>=1.8->geopandas) (0.4.4)\n",
      "Requirement already satisfied: six in c:\\users\\jcviscom\\anaconda3\\lib\\site-packages (from munch>=2.3.2->fiona>=1.8->geopandas) (1.15.0)\n",
      "Requirement already satisfied: python-dateutil>=2.7.3 in c:\\users\\jcviscom\\anaconda3\\lib\\site-packages (from pandas>=1.0.0->geopandas) (2.8.1)\n",
      "Requirement already satisfied: pytz>=2017.3 in c:\\users\\jcviscom\\anaconda3\\lib\\site-packages (from pandas>=1.0.0->geopandas) (2021.1)\n",
      "Requirement already satisfied: numpy>=1.16.5 in c:\\users\\jcviscom\\anaconda3\\lib\\site-packages (from pandas>=1.0.0->geopandas) (1.20.1)\n",
      "Requirement already satisfied: zipp>=0.5 in c:\\users\\jcviscom\\anaconda3\\lib\\site-packages (from importlib-metadata->fiona>=1.8->geopandas) (3.4.1)\n",
      "Requirement already satisfied: pyparsing>=2.0.2 in c:\\users\\jcviscom\\anaconda3\\lib\\site-packages (from packaging->geopandas) (2.4.7)\n",
      "Note: you may need to restart the kernel to use updated packages.\n"
     ]
    }
   ],
   "source": [
    "pip install geopandas"
   ]
  },
  {
   "cell_type": "code",
   "execution_count": 357,
   "id": "c3efc9e1",
   "metadata": {
    "scrolled": true
   },
   "outputs": [],
   "source": [
    "import geopandas as gpd\n",
    "import matplotlib.pyplot as plt\n",
    "import matplotlib.colors as colors"
   ]
  },
  {
   "cell_type": "markdown",
   "id": "f103e9e0",
   "metadata": {},
   "source": [
    "Pre-processing the heat map for visualizations."
   ]
  },
  {
   "cell_type": "code",
   "execution_count": 358,
   "id": "901eb2c2",
   "metadata": {},
   "outputs": [
    {
     "data": {
      "text/html": [
       "<div>\n",
       "<style scoped>\n",
       "    .dataframe tbody tr th:only-of-type {\n",
       "        vertical-align: middle;\n",
       "    }\n",
       "\n",
       "    .dataframe tbody tr th {\n",
       "        vertical-align: top;\n",
       "    }\n",
       "\n",
       "    .dataframe thead th {\n",
       "        text-align: right;\n",
       "    }\n",
       "</style>\n",
       "<table border=\"1\" class=\"dataframe\">\n",
       "  <thead>\n",
       "    <tr style=\"text-align: right;\">\n",
       "      <th></th>\n",
       "      <th>boro_code</th>\n",
       "      <th>boro_name</th>\n",
       "      <th>shape_area</th>\n",
       "      <th>shape_leng</th>\n",
       "      <th>geometry</th>\n",
       "    </tr>\n",
       "  </thead>\n",
       "  <tbody>\n",
       "    <tr>\n",
       "      <th>0</th>\n",
       "      <td>5</td>\n",
       "      <td>Staten Island</td>\n",
       "      <td>1.623621e+09</td>\n",
       "      <td>325917.353702</td>\n",
       "      <td>MULTIPOLYGON (((-74.05051 40.56642, -74.05047 ...</td>\n",
       "    </tr>\n",
       "    <tr>\n",
       "      <th>1</th>\n",
       "      <td>2</td>\n",
       "      <td>Bronx</td>\n",
       "      <td>1.187175e+09</td>\n",
       "      <td>463179.772813</td>\n",
       "      <td>MULTIPOLYGON (((-73.89681 40.79581, -73.89694 ...</td>\n",
       "    </tr>\n",
       "    <tr>\n",
       "      <th>2</th>\n",
       "      <td>1</td>\n",
       "      <td>Manhattan</td>\n",
       "      <td>6.365208e+08</td>\n",
       "      <td>357564.316391</td>\n",
       "      <td>MULTIPOLYGON (((-74.01093 40.68449, -74.01193 ...</td>\n",
       "    </tr>\n",
       "    <tr>\n",
       "      <th>3</th>\n",
       "      <td>3</td>\n",
       "      <td>Brooklyn</td>\n",
       "      <td>1.934143e+09</td>\n",
       "      <td>728197.541089</td>\n",
       "      <td>MULTIPOLYGON (((-73.86327 40.58388, -73.86381 ...</td>\n",
       "    </tr>\n",
       "    <tr>\n",
       "      <th>4</th>\n",
       "      <td>4</td>\n",
       "      <td>Queens</td>\n",
       "      <td>3.041419e+09</td>\n",
       "      <td>888199.731579</td>\n",
       "      <td>MULTIPOLYGON (((-73.82645 40.59053, -73.82642 ...</td>\n",
       "    </tr>\n",
       "  </tbody>\n",
       "</table>\n",
       "</div>"
      ],
      "text/plain": [
       "   boro_code      boro_name    shape_area     shape_leng  \\\n",
       "0          5  Staten Island  1.623621e+09  325917.353702   \n",
       "1          2          Bronx  1.187175e+09  463179.772813   \n",
       "2          1      Manhattan  6.365208e+08  357564.316391   \n",
       "3          3       Brooklyn  1.934143e+09  728197.541089   \n",
       "4          4         Queens  3.041419e+09  888199.731579   \n",
       "\n",
       "                                            geometry  \n",
       "0  MULTIPOLYGON (((-74.05051 40.56642, -74.05047 ...  \n",
       "1  MULTIPOLYGON (((-73.89681 40.79581, -73.89694 ...  \n",
       "2  MULTIPOLYGON (((-74.01093 40.68449, -74.01193 ...  \n",
       "3  MULTIPOLYGON (((-73.86327 40.58388, -73.86381 ...  \n",
       "4  MULTIPOLYGON (((-73.82645 40.59053, -73.82642 ...  "
      ]
     },
     "execution_count": 358,
     "metadata": {},
     "output_type": "execute_result"
    }
   ],
   "source": [
    "boundaries = gpd.read_file('C:/Users/jcviscom/Downloads/Borough Boundaries/geo_export_4bf61b73-3f85-41ef-9ccc-c01719c9f685.shp')\n",
    "boundaries = boundaries.astype({'boro_code':'int64'})\n",
    "boundaries.head()"
   ]
  },
  {
   "cell_type": "code",
   "execution_count": 359,
   "id": "d21f7b07",
   "metadata": {},
   "outputs": [
    {
     "data": {
      "text/html": [
       "<div>\n",
       "<style scoped>\n",
       "    .dataframe tbody tr th:only-of-type {\n",
       "        vertical-align: middle;\n",
       "    }\n",
       "\n",
       "    .dataframe tbody tr th {\n",
       "        vertical-align: top;\n",
       "    }\n",
       "\n",
       "    .dataframe thead th {\n",
       "        text-align: right;\n",
       "    }\n",
       "</style>\n",
       "<table border=\"1\" class=\"dataframe\">\n",
       "  <thead>\n",
       "    <tr style=\"text-align: right;\">\n",
       "      <th></th>\n",
       "      <th>FIPS</th>\n",
       "      <th>Total_Population</th>\n",
       "      <th>Smoking Rates (county)</th>\n",
       "      <th>NTAName</th>\n",
       "      <th>County Merged</th>\n",
       "      <th>Tob_Retailer_Per_1000</th>\n",
       "    </tr>\n",
       "    <tr>\n",
       "      <th>BoroName</th>\n",
       "      <th></th>\n",
       "      <th></th>\n",
       "      <th></th>\n",
       "      <th></th>\n",
       "      <th></th>\n",
       "      <th></th>\n",
       "    </tr>\n",
       "  </thead>\n",
       "  <tbody>\n",
       "    <tr>\n",
       "      <th>Bronx</th>\n",
       "      <td>320</td>\n",
       "      <td>320</td>\n",
       "      <td>319</td>\n",
       "      <td>320</td>\n",
       "      <td>320</td>\n",
       "      <td>320</td>\n",
       "    </tr>\n",
       "    <tr>\n",
       "      <th>Kings</th>\n",
       "      <td>712</td>\n",
       "      <td>712</td>\n",
       "      <td>712</td>\n",
       "      <td>712</td>\n",
       "      <td>712</td>\n",
       "      <td>712</td>\n",
       "    </tr>\n",
       "    <tr>\n",
       "      <th>New York</th>\n",
       "      <td>267</td>\n",
       "      <td>267</td>\n",
       "      <td>267</td>\n",
       "      <td>267</td>\n",
       "      <td>267</td>\n",
       "      <td>267</td>\n",
       "    </tr>\n",
       "    <tr>\n",
       "      <th>Queens</th>\n",
       "      <td>605</td>\n",
       "      <td>605</td>\n",
       "      <td>590</td>\n",
       "      <td>605</td>\n",
       "      <td>605</td>\n",
       "      <td>605</td>\n",
       "    </tr>\n",
       "    <tr>\n",
       "      <th>Richmond</th>\n",
       "      <td>94</td>\n",
       "      <td>94</td>\n",
       "      <td>94</td>\n",
       "      <td>94</td>\n",
       "      <td>94</td>\n",
       "      <td>94</td>\n",
       "    </tr>\n",
       "  </tbody>\n",
       "</table>\n",
       "</div>"
      ],
      "text/plain": [
       "          FIPS  Total_Population  Smoking Rates (county)  NTAName  \\\n",
       "BoroName                                                            \n",
       "Bronx      320               320                     319      320   \n",
       "Kings      712               712                     712      712   \n",
       "New York   267               267                     267      267   \n",
       "Queens     605               605                     590      605   \n",
       "Richmond    94                94                      94       94   \n",
       "\n",
       "          County Merged  Tob_Retailer_Per_1000  \n",
       "BoroName                                        \n",
       "Bronx               320                    320  \n",
       "Kings               712                    712  \n",
       "New York            267                    267  \n",
       "Queens              605                    605  \n",
       "Richmond             94                     94  "
      ]
     },
     "execution_count": 359,
     "metadata": {},
     "output_type": "execute_result"
    }
   ],
   "source": [
    "FACETS_Joined_2.groupby('BoroName').count()"
   ]
  },
  {
   "cell_type": "code",
   "execution_count": 360,
   "id": "fd46cd98",
   "metadata": {},
   "outputs": [
    {
     "data": {
      "text/html": [
       "<div>\n",
       "<style scoped>\n",
       "    .dataframe tbody tr th:only-of-type {\n",
       "        vertical-align: middle;\n",
       "    }\n",
       "\n",
       "    .dataframe tbody tr th {\n",
       "        vertical-align: top;\n",
       "    }\n",
       "\n",
       "    .dataframe thead th {\n",
       "        text-align: right;\n",
       "    }\n",
       "</style>\n",
       "<table border=\"1\" class=\"dataframe\">\n",
       "  <thead>\n",
       "    <tr style=\"text-align: right;\">\n",
       "      <th></th>\n",
       "      <th>FIPS</th>\n",
       "      <th>Total_Population</th>\n",
       "      <th>Smoking Rates (county)</th>\n",
       "      <th>BoroName</th>\n",
       "      <th>NTAName</th>\n",
       "      <th>County Merged</th>\n",
       "      <th>Tob_Retailer_Per_1000</th>\n",
       "      <th>boro_code</th>\n",
       "      <th>shape_area</th>\n",
       "      <th>shape_leng</th>\n",
       "      <th>geometry</th>\n",
       "    </tr>\n",
       "  </thead>\n",
       "  <tbody>\n",
       "    <tr>\n",
       "      <th>0</th>\n",
       "      <td>36005000100</td>\n",
       "      <td>7503</td>\n",
       "      <td>NaN</td>\n",
       "      <td>Bronx</td>\n",
       "      <td>Rikers Island</td>\n",
       "      <td>Bronx</td>\n",
       "      <td>0.0</td>\n",
       "      <td>2.0</td>\n",
       "      <td>1.187175e+09</td>\n",
       "      <td>463179.772813</td>\n",
       "      <td>MULTIPOLYGON (((-73.89681 40.79581, -73.89694 ...</td>\n",
       "    </tr>\n",
       "    <tr>\n",
       "      <th>1</th>\n",
       "      <td>36005000200</td>\n",
       "      <td>5251</td>\n",
       "      <td>0.114</td>\n",
       "      <td>Bronx</td>\n",
       "      <td>Soundview-Clason Point</td>\n",
       "      <td>Bronx</td>\n",
       "      <td>1.0</td>\n",
       "      <td>2.0</td>\n",
       "      <td>1.187175e+09</td>\n",
       "      <td>463179.772813</td>\n",
       "      <td>MULTIPOLYGON (((-73.89681 40.79581, -73.89694 ...</td>\n",
       "    </tr>\n",
       "    <tr>\n",
       "      <th>2</th>\n",
       "      <td>36005000400</td>\n",
       "      <td>5980</td>\n",
       "      <td>0.114</td>\n",
       "      <td>Bronx</td>\n",
       "      <td>Soundview-Clason Point</td>\n",
       "      <td>Bronx</td>\n",
       "      <td>1.0</td>\n",
       "      <td>2.0</td>\n",
       "      <td>1.187175e+09</td>\n",
       "      <td>463179.772813</td>\n",
       "      <td>MULTIPOLYGON (((-73.89681 40.79581, -73.89694 ...</td>\n",
       "    </tr>\n",
       "    <tr>\n",
       "      <th>3</th>\n",
       "      <td>36005001600</td>\n",
       "      <td>6056</td>\n",
       "      <td>0.114</td>\n",
       "      <td>Bronx</td>\n",
       "      <td>Soundview-Clason Point</td>\n",
       "      <td>Bronx</td>\n",
       "      <td>1.0</td>\n",
       "      <td>2.0</td>\n",
       "      <td>1.187175e+09</td>\n",
       "      <td>463179.772813</td>\n",
       "      <td>MULTIPOLYGON (((-73.89681 40.79581, -73.89694 ...</td>\n",
       "    </tr>\n",
       "    <tr>\n",
       "      <th>4</th>\n",
       "      <td>36005001900</td>\n",
       "      <td>2682</td>\n",
       "      <td>0.114</td>\n",
       "      <td>NaN</td>\n",
       "      <td>NaN</td>\n",
       "      <td>Bronx</td>\n",
       "      <td>1.0</td>\n",
       "      <td>NaN</td>\n",
       "      <td>NaN</td>\n",
       "      <td>NaN</td>\n",
       "      <td>None</td>\n",
       "    </tr>\n",
       "    <tr>\n",
       "      <th>...</th>\n",
       "      <td>...</td>\n",
       "      <td>...</td>\n",
       "      <td>...</td>\n",
       "      <td>...</td>\n",
       "      <td>...</td>\n",
       "      <td>...</td>\n",
       "      <td>...</td>\n",
       "      <td>...</td>\n",
       "      <td>...</td>\n",
       "      <td>...</td>\n",
       "      <td>...</td>\n",
       "    </tr>\n",
       "    <tr>\n",
       "      <th>2123</th>\n",
       "      <td>36085030301</td>\n",
       "      <td>4897</td>\n",
       "      <td>0.128</td>\n",
       "      <td>Staten Island</td>\n",
       "      <td>Mariner's Harbor-Arlington-Graniteville</td>\n",
       "      <td>Richmond</td>\n",
       "      <td>1.0</td>\n",
       "      <td>5.0</td>\n",
       "      <td>1.623621e+09</td>\n",
       "      <td>325917.353702</td>\n",
       "      <td>MULTIPOLYGON (((-74.05051 40.56642, -74.05047 ...</td>\n",
       "    </tr>\n",
       "    <tr>\n",
       "      <th>2124</th>\n",
       "      <td>36085030302</td>\n",
       "      <td>6142</td>\n",
       "      <td>0.128</td>\n",
       "      <td>Staten Island</td>\n",
       "      <td>Mariner's Harbor-Arlington-Graniteville</td>\n",
       "      <td>Richmond</td>\n",
       "      <td>2.0</td>\n",
       "      <td>5.0</td>\n",
       "      <td>1.623621e+09</td>\n",
       "      <td>325917.353702</td>\n",
       "      <td>MULTIPOLYGON (((-74.05051 40.56642, -74.05047 ...</td>\n",
       "    </tr>\n",
       "    <tr>\n",
       "      <th>2125</th>\n",
       "      <td>36085031901</td>\n",
       "      <td>2564</td>\n",
       "      <td>0.128</td>\n",
       "      <td>Staten Island</td>\n",
       "      <td>Mariner's Harbor-Arlington-Graniteville</td>\n",
       "      <td>Richmond</td>\n",
       "      <td>0.0</td>\n",
       "      <td>5.0</td>\n",
       "      <td>1.623621e+09</td>\n",
       "      <td>325917.353702</td>\n",
       "      <td>MULTIPOLYGON (((-74.05051 40.56642, -74.05047 ...</td>\n",
       "    </tr>\n",
       "    <tr>\n",
       "      <th>2126</th>\n",
       "      <td>36085031902</td>\n",
       "      <td>4480</td>\n",
       "      <td>0.128</td>\n",
       "      <td>Staten Island</td>\n",
       "      <td>Mariner's Harbor-Arlington-Graniteville</td>\n",
       "      <td>Richmond</td>\n",
       "      <td>1.0</td>\n",
       "      <td>5.0</td>\n",
       "      <td>1.623621e+09</td>\n",
       "      <td>325917.353702</td>\n",
       "      <td>MULTIPOLYGON (((-74.05051 40.56642, -74.05047 ...</td>\n",
       "    </tr>\n",
       "    <tr>\n",
       "      <th>2127</th>\n",
       "      <td>36085032300</td>\n",
       "      <td>1218</td>\n",
       "      <td>0.128</td>\n",
       "      <td>Staten Island</td>\n",
       "      <td>Mariner's Harbor-Arlington-Graniteville</td>\n",
       "      <td>Richmond</td>\n",
       "      <td>3.0</td>\n",
       "      <td>5.0</td>\n",
       "      <td>1.623621e+09</td>\n",
       "      <td>325917.353702</td>\n",
       "      <td>MULTIPOLYGON (((-74.05051 40.56642, -74.05047 ...</td>\n",
       "    </tr>\n",
       "  </tbody>\n",
       "</table>\n",
       "<p>2128 rows × 11 columns</p>\n",
       "</div>"
      ],
      "text/plain": [
       "             FIPS  Total_Population  Smoking Rates (county)       BoroName  \\\n",
       "0     36005000100              7503                     NaN          Bronx   \n",
       "1     36005000200              5251                   0.114          Bronx   \n",
       "2     36005000400              5980                   0.114          Bronx   \n",
       "3     36005001600              6056                   0.114          Bronx   \n",
       "4     36005001900              2682                   0.114            NaN   \n",
       "...           ...               ...                     ...            ...   \n",
       "2123  36085030301              4897                   0.128  Staten Island   \n",
       "2124  36085030302              6142                   0.128  Staten Island   \n",
       "2125  36085031901              2564                   0.128  Staten Island   \n",
       "2126  36085031902              4480                   0.128  Staten Island   \n",
       "2127  36085032300              1218                   0.128  Staten Island   \n",
       "\n",
       "                                      NTAName County Merged  \\\n",
       "0                               Rikers Island         Bronx   \n",
       "1                      Soundview-Clason Point         Bronx   \n",
       "2                      Soundview-Clason Point         Bronx   \n",
       "3                      Soundview-Clason Point         Bronx   \n",
       "4                                         NaN         Bronx   \n",
       "...                                       ...           ...   \n",
       "2123  Mariner's Harbor-Arlington-Graniteville      Richmond   \n",
       "2124  Mariner's Harbor-Arlington-Graniteville      Richmond   \n",
       "2125  Mariner's Harbor-Arlington-Graniteville      Richmond   \n",
       "2126  Mariner's Harbor-Arlington-Graniteville      Richmond   \n",
       "2127  Mariner's Harbor-Arlington-Graniteville      Richmond   \n",
       "\n",
       "      Tob_Retailer_Per_1000  boro_code    shape_area     shape_leng  \\\n",
       "0                       0.0        2.0  1.187175e+09  463179.772813   \n",
       "1                       1.0        2.0  1.187175e+09  463179.772813   \n",
       "2                       1.0        2.0  1.187175e+09  463179.772813   \n",
       "3                       1.0        2.0  1.187175e+09  463179.772813   \n",
       "4                       1.0        NaN           NaN            NaN   \n",
       "...                     ...        ...           ...            ...   \n",
       "2123                    1.0        5.0  1.623621e+09  325917.353702   \n",
       "2124                    2.0        5.0  1.623621e+09  325917.353702   \n",
       "2125                    0.0        5.0  1.623621e+09  325917.353702   \n",
       "2126                    1.0        5.0  1.623621e+09  325917.353702   \n",
       "2127                    3.0        5.0  1.623621e+09  325917.353702   \n",
       "\n",
       "                                               geometry  \n",
       "0     MULTIPOLYGON (((-73.89681 40.79581, -73.89694 ...  \n",
       "1     MULTIPOLYGON (((-73.89681 40.79581, -73.89694 ...  \n",
       "2     MULTIPOLYGON (((-73.89681 40.79581, -73.89694 ...  \n",
       "3     MULTIPOLYGON (((-73.89681 40.79581, -73.89694 ...  \n",
       "4                                                  None  \n",
       "...                                                 ...  \n",
       "2123  MULTIPOLYGON (((-74.05051 40.56642, -74.05047 ...  \n",
       "2124  MULTIPOLYGON (((-74.05051 40.56642, -74.05047 ...  \n",
       "2125  MULTIPOLYGON (((-74.05051 40.56642, -74.05047 ...  \n",
       "2126  MULTIPOLYGON (((-74.05051 40.56642, -74.05047 ...  \n",
       "2127  MULTIPOLYGON (((-74.05051 40.56642, -74.05047 ...  \n",
       "\n",
       "[2128 rows x 11 columns]"
      ]
     },
     "execution_count": 360,
     "metadata": {},
     "output_type": "execute_result"
    }
   ],
   "source": [
    "FACETS_Joined_2['BoroName'].replace({'New York':'Manhattan'}, inplace=True)\n",
    "FACETS_Joined_2['BoroName'].replace({'Richmond':'Staten Island'}, inplace=True)\n",
    "FACETS_Joined_2['BoroName'].replace({'Kings':'Brooklyn'}, inplace=True)\n",
    "boundaries.rename(columns={'boro_name': 'BoroName'}, inplace = True)\n",
    "\n",
    "FACETS_Joined_Geo = pd.merge(FACETS_Joined_2, boundaries, how=\"left\", on=['BoroName'])\n",
    "FACETS_Joined_Geo"
   ]
  },
  {
   "cell_type": "code",
   "execution_count": 361,
   "id": "9fdc2f41",
   "metadata": {},
   "outputs": [],
   "source": [
    "from geopandas import GeoDataFrame\n",
    "import matplotlib.ticker as mtick"
   ]
  },
  {
   "cell_type": "code",
   "execution_count": 363,
   "id": "b9a0c974",
   "metadata": {},
   "outputs": [],
   "source": [
    "from geopandas import GeoDataFrame\n",
    "\n",
    "FACETS_Joined_Geo = GeoDataFrame(FACETS_Joined_Geo)"
   ]
  },
  {
   "cell_type": "code",
   "execution_count": 364,
   "id": "a84c176d",
   "metadata": {
    "scrolled": true
   },
   "outputs": [
    {
     "data": {
      "image/png": "[encoded data removed]",
      "text/plain": [
       "<Figure size 1440x720 with 4 Axes>"
      ]
     },
     "metadata": {
      "needs_background": "light"
     },
     "output_type": "display_data"
    }
   ],
   "source": [
    "cmap1 = 'Reds'\n",
    "norm1 = plt.Normalize(vmin=.08, vmax=.26)\n",
    "\n",
    "cmap2 = 'Reds'\n",
    "norm2 = plt.Normalize(vmin= .03, vmax= 6)\n",
    "\n",
    "fig, axs = plt.subplots(ncols=2, figsize=(20, 10))\n",
    "\n",
    "FACETS_Joined_Geo.plot(column='Smoking Rates (county)', cmap=cmap1, norm=norm1, ax=axs[0], legend=True)\n",
    "axs[0].set_title(\"Smoking Rates by County, 2018\", fontsize=18, fontweight='bold')\n",
    "for idx, row in boundaries.iterrows():\n",
    "    axs[0].annotate(text=row['BoroName'], xy=row['geometry'].centroid.coords[0], ha='center', fontsize=10)\n",
    "\n",
    "FACETS_Joined_Geo.plot(column='Tob_Retailer_Per_1000', cmap=cmap2, norm=norm2, ax=axs[1], legend=True)\n",
    "axs[1].set_title(\"Tobacco Retailers Per 1000, 2018\", fontsize=18, fontweight='bold')\n",
    "for idx, row in boundaries.iterrows():\n",
    "    axs[1].annotate(text=row['BoroName'], xy=row['geometry'].centroid.coords[0], ha='center', fontsize=10)\n",
    "\n",
    "plt.show()"
   ]
  },
  {
   "cell_type": "markdown",
   "id": "7d5b1208",
   "metadata": {},
   "source": [
    "Below is the code I used for the COVID cases per 100K visualization: "
   ]
  },
  {
   "cell_type": "markdown",
   "id": "5713e7f5",
   "metadata": {},
   "source": [
    "# Covid Cases Per 100K (2020)"
   ]
  },
  {
   "cell_type": "code",
   "execution_count": 25,
   "id": "74e17342",
   "metadata": {},
   "outputs": [
    {
     "name": "stdout",
     "output_type": "stream",
     "text": [
      "\n",
      " Queens total count for 2020:  117063\n",
      "\n",
      " Brooklyn total count for 2020:  115636\n",
      "\n",
      " Bronx total count for 2020:  80527\n",
      "\n",
      " Manhattan total count for 2020:  55685\n",
      "\n",
      " Staten Island total count for 2020:  32627\n"
     ]
    }
   ],
   "source": [
    "data_covid_2020 = pd.read_csv('C:/Users/jcviscom/Downloads/data-by-day.csv')\n",
    "data_covid_2020['date_of_interest'] = pd.to_datetime(data_covid_2020['date_of_interest'])\n",
    "count_qns_2020 = data_covid_2020.loc[data_covid_2020['date_of_interest'].dt.year == 2020, 'QN_CASE_COUNT'].sum()\n",
    "print(\"\\n Queens total count for 2020: \", count_qns_2020)\n",
    "count_brooklyn_2020 = data_covid_2020.loc[data_covid_2020['date_of_interest'].dt.year == 2020, 'BK_CASE_COUNT'].sum()\n",
    "print(\"\\n Brooklyn total count for 2020: \", count_brooklyn_2020)\n",
    "count_bronx_2020 = data_covid_2020.loc[data_covid_2020['date_of_interest'].dt.year == 2020, 'BX_CASE_COUNT'].sum()\n",
    "print(\"\\n Bronx total count for 2020: \", count_bronx_2020)\n",
    "count_mhtn_2020 = data_covid_2020.loc[data_covid_2020['date_of_interest'].dt.year == 2020, 'MN_CASE_COUNT'].sum()\n",
    "print(\"\\n Manhattan total count for 2020: \", count_mhtn_2020)\n",
    "count_stn_2020 = data_covid_2020.loc[data_covid_2020['date_of_interest'].dt.year == 2020, 'SI_CASE_COUNT'].sum()\n",
    "print(\"\\n Staten Island total count for 2020: \", count_stn_2020)\n",
    "all_counts = [[count_qns_2020,4], [count_brooklyn_2020,3],[count_bronx_2020,2],[count_mhtn_2020,1],[count_stn_2020,5]]"
   ]
  },
  {
   "cell_type": "code",
   "execution_count": 20,
   "id": "9d8c7eef",
   "metadata": {},
   "outputs": [],
   "source": [
    "PopBorough = pd.read_csv('C:/Users/jcviscom/Downloads/Population By Borough.csv')\n",
    "PopBorough.rename(columns = {'Borough':'boro_name'},inplace=True)"
   ]
  },
  {
   "cell_type": "code",
   "execution_count": 24,
   "id": "317099cf",
   "metadata": {},
   "outputs": [
    {
     "data": {
      "text/html": [
       "<div>\n",
       "<style scoped>\n",
       "    .dataframe tbody tr th:only-of-type {\n",
       "        vertical-align: middle;\n",
       "    }\n",
       "\n",
       "    .dataframe tbody tr th {\n",
       "        vertical-align: top;\n",
       "    }\n",
       "\n",
       "    .dataframe thead th {\n",
       "        text-align: right;\n",
       "    }\n",
       "</style>\n",
       "<table border=\"1\" class=\"dataframe\">\n",
       "  <thead>\n",
       "    <tr style=\"text-align: right;\">\n",
       "      <th></th>\n",
       "      <th>boro_name</th>\n",
       "      <th>Population</th>\n",
       "    </tr>\n",
       "  </thead>\n",
       "  <tbody>\n",
       "    <tr>\n",
       "      <th>0</th>\n",
       "      <td>Bronx</td>\n",
       "      <td>1472654</td>\n",
       "    </tr>\n",
       "    <tr>\n",
       "      <th>1</th>\n",
       "      <td>Brooklyn</td>\n",
       "      <td>2736074</td>\n",
       "    </tr>\n",
       "    <tr>\n",
       "      <th>2</th>\n",
       "      <td>Manhattan</td>\n",
       "      <td>1694251</td>\n",
       "    </tr>\n",
       "    <tr>\n",
       "      <th>3</th>\n",
       "      <td>Queens</td>\n",
       "      <td>2405464</td>\n",
       "    </tr>\n",
       "    <tr>\n",
       "      <th>4</th>\n",
       "      <td>Staten Island</td>\n",
       "      <td>495747</td>\n",
       "    </tr>\n",
       "  </tbody>\n",
       "</table>\n",
       "</div>"
      ],
      "text/plain": [
       "       boro_name  Population\n",
       "0          Bronx     1472654\n",
       "1       Brooklyn     2736074\n",
       "2      Manhattan     1694251\n",
       "3         Queens     2405464\n",
       "4  Staten Island      495747"
      ]
     },
     "execution_count": 24,
     "metadata": {},
     "output_type": "execute_result"
    }
   ],
   "source": [
    "PopBorough['Population'].astype(str).astype(int)\n",
    "PopBorough"
   ]
  },
  {
   "cell_type": "code",
   "execution_count": 27,
   "id": "6a295b02",
   "metadata": {},
   "outputs": [
    {
     "data": {
      "text/html": [
       "<div>\n",
       "<style scoped>\n",
       "    .dataframe tbody tr th:only-of-type {\n",
       "        vertical-align: middle;\n",
       "    }\n",
       "\n",
       "    .dataframe tbody tr th {\n",
       "        vertical-align: top;\n",
       "    }\n",
       "\n",
       "    .dataframe thead th {\n",
       "        text-align: right;\n",
       "    }\n",
       "</style>\n",
       "<table border=\"1\" class=\"dataframe\">\n",
       "  <thead>\n",
       "    <tr style=\"text-align: right;\">\n",
       "      <th></th>\n",
       "      <th>boro_code</th>\n",
       "      <th>boro_name</th>\n",
       "      <th>shape_area</th>\n",
       "      <th>shape_leng</th>\n",
       "      <th>geometry</th>\n",
       "      <th>Number</th>\n",
       "      <th>GeoID</th>\n",
       "      <th>Population</th>\n",
       "      <th>Cases Per 100K</th>\n",
       "    </tr>\n",
       "  </thead>\n",
       "  <tbody>\n",
       "    <tr>\n",
       "      <th>0</th>\n",
       "      <td>4</td>\n",
       "      <td>Queens</td>\n",
       "      <td>3.041419e+09</td>\n",
       "      <td>888199.731579</td>\n",
       "      <td>MULTIPOLYGON (((-73.82645 40.59053, -73.82642 ...</td>\n",
       "      <td>117063</td>\n",
       "      <td>4</td>\n",
       "      <td>2405464</td>\n",
       "      <td>4866.545498</td>\n",
       "    </tr>\n",
       "    <tr>\n",
       "      <th>1</th>\n",
       "      <td>3</td>\n",
       "      <td>Brooklyn</td>\n",
       "      <td>1.934143e+09</td>\n",
       "      <td>728197.541089</td>\n",
       "      <td>MULTIPOLYGON (((-73.86327 40.58388, -73.86381 ...</td>\n",
       "      <td>115636</td>\n",
       "      <td>3</td>\n",
       "      <td>2736074</td>\n",
       "      <td>4226.347679</td>\n",
       "    </tr>\n",
       "    <tr>\n",
       "      <th>2</th>\n",
       "      <td>2</td>\n",
       "      <td>Bronx</td>\n",
       "      <td>1.187175e+09</td>\n",
       "      <td>463179.772813</td>\n",
       "      <td>MULTIPOLYGON (((-73.89681 40.79581, -73.89694 ...</td>\n",
       "      <td>80527</td>\n",
       "      <td>2</td>\n",
       "      <td>1472654</td>\n",
       "      <td>5468.154774</td>\n",
       "    </tr>\n",
       "    <tr>\n",
       "      <th>3</th>\n",
       "      <td>1</td>\n",
       "      <td>Manhattan</td>\n",
       "      <td>6.365208e+08</td>\n",
       "      <td>357564.316391</td>\n",
       "      <td>MULTIPOLYGON (((-74.01093 40.68449, -74.01193 ...</td>\n",
       "      <td>55685</td>\n",
       "      <td>1</td>\n",
       "      <td>1694251</td>\n",
       "      <td>3286.703092</td>\n",
       "    </tr>\n",
       "    <tr>\n",
       "      <th>4</th>\n",
       "      <td>5</td>\n",
       "      <td>Staten Island</td>\n",
       "      <td>1.623621e+09</td>\n",
       "      <td>325917.353702</td>\n",
       "      <td>MULTIPOLYGON (((-74.05051 40.56642, -74.05047 ...</td>\n",
       "      <td>32627</td>\n",
       "      <td>5</td>\n",
       "      <td>495747</td>\n",
       "      <td>6581.381229</td>\n",
       "    </tr>\n",
       "  </tbody>\n",
       "</table>\n",
       "</div>"
      ],
      "text/plain": [
       "   boro_code      boro_name    shape_area     shape_leng  \\\n",
       "0          4         Queens  3.041419e+09  888199.731579   \n",
       "1          3       Brooklyn  1.934143e+09  728197.541089   \n",
       "2          2          Bronx  1.187175e+09  463179.772813   \n",
       "3          1      Manhattan  6.365208e+08  357564.316391   \n",
       "4          5  Staten Island  1.623621e+09  325917.353702   \n",
       "\n",
       "                                            geometry  Number  GeoID  \\\n",
       "0  MULTIPOLYGON (((-73.82645 40.59053, -73.82642 ...  117063      4   \n",
       "1  MULTIPOLYGON (((-73.86327 40.58388, -73.86381 ...  115636      3   \n",
       "2  MULTIPOLYGON (((-73.89681 40.79581, -73.89694 ...   80527      2   \n",
       "3  MULTIPOLYGON (((-74.01093 40.68449, -74.01193 ...   55685      1   \n",
       "4  MULTIPOLYGON (((-74.05051 40.56642, -74.05047 ...   32627      5   \n",
       "\n",
       "   Population  Cases Per 100K  \n",
       "0     2405464     4866.545498  \n",
       "1     2736074     4226.347679  \n",
       "2     1472654     5468.154774  \n",
       "3     1694251     3286.703092  \n",
       "4      495747     6581.381229  "
      ]
     },
     "execution_count": 27,
     "metadata": {},
     "output_type": "execute_result"
    }
   ],
   "source": [
    "data_counts = pd.DataFrame(all_counts, columns=['Number', 'GeoID'])\n",
    "#print(data_counts)\n",
    "merged_data_counts = pd.merge(boundaries, data_counts, left_on='boro_code', right_on='GeoID', how='right')\n",
    "merged_data_counts = pd.merge(merged_data_counts, PopBorough, how=\"left\", on=[\"boro_name\"] )\n",
    "merged_data_counts['Cases Per 100K'] = (merged_data_counts['Number']/merged_data_counts['Population'])*100000\n",
    "merged_data_counts\n",
    "#print(type(merged_data_counts['Number']))"
   ]
  },
  {
   "cell_type": "code",
   "execution_count": 110,
   "id": "f54842a7",
   "metadata": {},
   "outputs": [],
   "source": [
    "# merged_data_counts['Number'] = merged_data_counts['Number'].str.replace(',', '').astype(float)"
   ]
  },
  {
   "cell_type": "code",
   "execution_count": 30,
   "id": "2248389b",
   "metadata": {},
   "outputs": [
    {
     "data": {
      "image/png": "[encoded data removed]",
      "text/plain": [
       "<Figure size 1440x720 with 3 Axes>"
      ]
     },
     "metadata": {
      "needs_background": "light"
     },
     "output_type": "display_data"
    }
   ],
   "source": [
    "#cmap1 = 'Reds'\n",
    "#norm1 = plt.Normalize(vmin=merged_obese_2020['Number'].min(), vmax=merged_obese_2020['Number'].max())\n",
    "\n",
    "cmap2 = 'Reds'\n",
    "norm2 = plt.Normalize(vmin=0.1, vmax=10000)\n",
    "\n",
    "fig, axs = plt.subplots(ncols=2, figsize=(20, 10))\n",
    "\n",
    "#merged_obese_2020.plot(column='Number', cmap=cmap1, norm=norm1, ax=axs[0], legend=True)\n",
    "#axs[0].set_title('Obesity count in Adults for the year 2020', fontsize=18, fontweight='bold')\n",
    "#for idx, row in boundaries.iterrows():\n",
    "#    axs[0].annotate(text=row['boro_name'], xy=row['geometry'].centroid.coords[0], ha='center', fontsize=10)\n",
    "\n",
    "merged_data_counts.plot(column='Cases Per 100K', cmap=cmap2, norm=norm2, ax=axs[1], legend=True)\n",
    "axs[1].set_title('COVID Cases Per 100K, 2020', fontsize=18, fontweight='bold')\n",
    "for idx, row in boundaries.iterrows():\n",
    "    axs[1].annotate(text=row['boro_name'], xy=row['geometry'].centroid.coords[0], ha='center', fontsize=10)\n",
    "\n",
    "plt.show()"
   ]
  },
  {
   "cell_type": "code",
   "execution_count": null,
   "id": "f659297b",
   "metadata": {},
   "outputs": [],
   "source": [
    "# Covid Cases Per 100K (2020)\n",
    "\n",
    "data_covid_2020 = pd.read_csv('C:/Users/jcviscom/Downloads/data-by-day.csv')\n",
    "data_covid_2020['date_of_interest'] = pd.to_datetime(data_covid_2020['date_of_interest'])\n",
    "count_qns_2020 = data_covid_2020.loc[data_covid_2020['date_of_interest'].dt.year == 2020, 'QN_CASE_COUNT'].sum()\n",
    "print(\"\\n Queens total count for 2020: \", count_qns_2020)\n",
    "count_brooklyn_2020 = data_covid_2020.loc[data_covid_2020['date_of_interest'].dt.year == 2020, 'BK_CASE_COUNT'].sum()\n",
    "print(\"\\n Brooklyn total count for 2020: \", count_brooklyn_2020)\n",
    "count_bronx_2020 = data_covid_2020.loc[data_covid_2020['date_of_interest'].dt.year == 2020, 'BX_CASE_COUNT'].sum()\n",
    "print(\"\\n Bronx total count for 2020: \", count_bronx_2020)\n",
    "count_mhtn_2020 = data_covid_2020.loc[data_covid_2020['date_of_interest'].dt.year == 2020, 'MN_CASE_COUNT'].sum()\n",
    "print(\"\\n Manhattan total count for 2020: \", count_mhtn_2020)\n",
    "count_stn_2020 = data_covid_2020.loc[data_covid_2020['date_of_interest'].dt.year == 2020, 'SI_CASE_COUNT'].sum()\n",
    "print(\"\\n Staten Island total count for 2020: \", count_stn_2020)\n",
    "all_counts = [[count_qns_2020,4], [count_brooklyn_2020,3],[count_bronx_2020,2],[count_mhtn_2020,1],[count_stn_2020,5]]\n",
    "\n",
    "PopBorough = pd.read_csv('C:/Users/jcviscom/Downloads/Population By Borough.csv')\n",
    "PopBorough.rename(columns = {'Borough':'boro_name'},inplace=True)\n",
    "\n",
    "PopBorough['Population'].astype(str).astype(int)\n",
    "PopBorough\n",
    "\n",
    "data_counts = pd.DataFrame(all_counts, columns=['Number', 'GeoID'])\n",
    "#print(data_counts)\n",
    "merged_data_counts = pd.merge(boundaries, data_counts, left_on='boro_code', right_on='GeoID', how='right')\n",
    "merged_data_counts = pd.merge(merged_data_counts, PopBorough, how=\"left\", on=[\"boro_name\"] )\n",
    "merged_data_counts['Cases Per 100K'] = (merged_data_counts['Number']/merged_data_counts['Population'])*100000\n",
    "merged_data_counts\n",
    "#print(type(merged_data_counts['Number']))\n",
    "\n",
    "# merged_data_counts['Number'] = merged_data_counts['Number'].str.replace(',', '').astype(float)\n",
    "\n",
    "#cmap1 = 'Reds'\n",
    "#norm1 = plt.Normalize(vmin=merged_obese_2020['Number'].min(), vmax=merged_obese_2020['Number'].max())\n",
    "\n",
    "cmap2 = 'Reds'\n",
    "norm2 = plt.Normalize(vmin=0.1, vmax=10000)\n",
    "\n",
    "fig, axs = plt.subplots(ncols=2, figsize=(20, 10))\n",
    "\n",
    "#merged_obese_2020.plot(column='Number', cmap=cmap1, norm=norm1, ax=axs[0], legend=True)\n",
    "#axs[0].set_title('Obesity count in Adults for the year 2020', fontsize=18, fontweight='bold')\n",
    "#for idx, row in boundaries.iterrows():\n",
    "#    axs[0].annotate(text=row['boro_name'], xy=row['geometry'].centroid.coords[0], ha='center', fontsize=10)\n",
    "\n",
    "merged_data_counts.plot(column='Cases Per 100K', cmap=cmap2, norm=norm2, ax=axs[1], legend=True)\n",
    "axs[1].set_title('COVID Cases Per 100K, 2020', fontsize=18, fontweight='bold')\n",
    "for idx, row in boundaries.iterrows():\n",
    "    axs[1].annotate(text=row['boro_name'], xy=row['geometry'].centroid.coords[0], ha='center', fontsize=10)\n",
    "\n",
    "plt.show()"
   ]
  }
 ],
 "metadata": {
  "kernelspec": {
   "display_name": "Python 3",
   "language": "python",
   "name": "python3"
  },
  "language_info": {
   "codemirror_mode": {
    "name": "ipython",
    "version": 3
   },
   "file_extension": ".py",
   "mimetype": "text/x-python",
   "name": "python",
   "nbconvert_exporter": "python",
   "pygments_lexer": "ipython3",
   "version": "3.8.8"
  }
 },
 "nbformat": 4,
 "nbformat_minor": 5
}
